{
 "cells": [
  {
   "cell_type": "code",
   "execution_count": 1,
   "id": "d426a9a4-4067-4ea0-9c6e-289df5fe08a4",
   "metadata": {},
   "outputs": [],
   "source": [
    "import joblib\n",
    "import pandas as pd\n",
    "import numpy as np\n",
    "from sklearn.metrics import mean_absolute_error\n",
    "import matplotlib.pyplot as plt"
   ]
  },
  {
   "cell_type": "code",
   "execution_count": 2,
   "id": "30643f87-ce95-4bf5-bef8-b1ae36c5e250",
   "metadata": {},
   "outputs": [],
   "source": [
    "# Load simulated test data. \n",
    "\n",
    "filename = 'df_simulated'\n",
    "\n",
    "df_test = pd.read_csv(filename+'.csv')"
   ]
  },
  {
   "cell_type": "markdown",
   "id": "5dd7fb01-1933-4cd1-aef0-b111b4977dbc",
   "metadata": {},
   "source": [
    "## Predict tau-PET load"
   ]
  },
  {
   "cell_type": "code",
   "execution_count": 3,
   "id": "edac6593-5ec9-45ac-94db-c3e7198465e4",
   "metadata": {},
   "outputs": [],
   "source": [
    "# load imputer, pipeline and variable names\n",
    "\n",
    "# select the appropriate model\n",
    "imputer = joblib.load('tau_load/model7/clin_plasma_mri_trained_imputer.pkl')\n",
    "pipeline = joblib.load('tau_load/model7/clin_plasma_mri_trained_regressor.pkl')\n",
    "variables = joblib.load('tau_load/model7/clin_plasma_mri_input_variables.pkl')\n"
   ]
  },
  {
   "cell_type": "code",
   "execution_count": 4,
   "id": "0f017b5a-100b-4a4a-a14f-9600a450170c",
   "metadata": {},
   "outputs": [],
   "source": [
    "# First outcome, if available (not needed for prediction)\n",
    "outcome1 = 'tnic_cho_com_I_IV' # outcome variable name, change as suitable\n",
    "y_true = df_test[outcome1]"
   ]
  },
  {
   "cell_type": "code",
   "execution_count": 5,
   "id": "01aeefef-fbf8-4dfd-a073-5f51708436ec",
   "metadata": {},
   "outputs": [],
   "source": [
    "# Impute data for missing columns\n",
    "\n",
    "X_test = imputer.transform(df_test[variables])\n",
    "X_test = pd.DataFrame(X_test,columns=variables)"
   ]
  },
  {
   "cell_type": "code",
   "execution_count": 6,
   "id": "94d87995-82e8-41b9-8476-8067dd86eab0",
   "metadata": {},
   "outputs": [],
   "source": [
    "# Predict tau load using the pre-trained pipeline\n",
    "\n",
    "y_pred = pipeline.predict(X_test)\n",
    "\n",
    "# save prediction as column\n",
    "df_test['pred_'+outcome1] = y_pred"
   ]
  },
  {
   "cell_type": "code",
   "execution_count": 7,
   "id": "5093795f-0f5f-4582-a30e-fd4c5b16294d",
   "metadata": {},
   "outputs": [
    {
     "name": "stdout",
     "output_type": "stream",
     "text": [
      "Mean absolute error: 0.441\n",
      "R2 score: 0.006\n"
     ]
    }
   ],
   "source": [
    "# if y_true available\n",
    "# Calculate and print summary metrics\n",
    "mae = mean_absolute_error(y_true,y_pred)\n",
    "r2 = np.corrcoef(y_true,y_pred)[0,1]*np.corrcoef(y_true,y_pred)[0,1]\n",
    "\n",
    "print('Mean absolute error: {:.3f}'.format(mae))\n",
    "print('R2 score: {:.3f}'.format(r2))"
   ]
  },
  {
   "cell_type": "code",
   "execution_count": 8,
   "id": "aba8748a-fad5-4f10-b43e-91ff0bae3a82",
   "metadata": {},
   "outputs": [
    {
     "data": {
      "text/plain": [
       "Text(0, 0.5, 'Predicted')"
      ]
     },
     "execution_count": 8,
     "metadata": {},
     "output_type": "execute_result"
    },
    {
     "data": {
      "image/png": "[encoded data removed]",
      "text/plain": [
       "<Figure size 500x300 with 1 Axes>"
      ]
     },
     "metadata": {},
     "output_type": "display_data"
    }
   ],
   "source": [
    "# if y_true available\n",
    "# Plot scatter plot of predicted versus true and print \n",
    "\n",
    "plt.rcParams[\"figure.figsize\"] = (5,3)\n",
    "fig, axs = plt.subplots(1,1)\n",
    "x_line = np.linspace(1,4,2)\n",
    "y_line = np.linspace(1,4,2)\n",
    "plt.rc('font', size=10)\n",
    "plt.scatter(y_true,y_pred,c = 'indigo',s=10)\n",
    "axs.set_aspect('equal', adjustable='box')\n",
    "plt.grid(alpha=0.3)\n",
    "props = dict(boxstyle='square', facecolor='white')\n",
    "axs.plot(x_line,y_line,c='black',linewidth=1)\n",
    "axs.text(0.44, 0.97, 'MAE = {:.3f} \\n R-squared = {:.3f}'.format(mae,r2), transform=axs.transAxes,verticalalignment='top', bbox=props,size=9)\n",
    "axs.set_ylim([0.75, 4.2])\n",
    "axs.set_xlim([0.75,4.2])\n",
    "axs.set_yticks([1,1.5,2,2.5, 3, 3.5, 4,])\n",
    "plt.xlabel('True')\n",
    "plt.ylabel('Predicted')\n",
    "#plt.savefig('y_scatter_load_linear_bf1.png',bbox_inches='tight',dpi=300)\n"
   ]
  },
  {
   "cell_type": "markdown",
   "id": "16195e14-9a28-4497-a1bb-0abc177bf444",
   "metadata": {},
   "source": [
    "## Predict laterality index in tau-positive individuals"
   ]
  },
  {
   "cell_type": "code",
   "execution_count": 9,
   "id": "a174037a-9a24-4ca0-b477-198321b7a1db",
   "metadata": {
    "tags": []
   },
   "outputs": [],
   "source": [
    "# filter out tau-positive individuals based on previous prediction (or use other method)\n",
    "df_pos = df_test[df_test['pred_'+outcome1] > 1.34]"
   ]
  },
  {
   "cell_type": "code",
   "execution_count": 10,
   "id": "cf9fe94e-529f-4ee3-b83a-e2d3dfe924f3",
   "metadata": {},
   "outputs": [],
   "source": [
    "# load imputer, pipeline and variable names\n",
    "\n",
    "# select the appropriate model\n",
    "imputer = joblib.load('tau_asymmetry/model1/mri_trained_imputer.pkl')\n",
    "pipeline = joblib.load('tau_asymmetry/model1/mri_trained_regressor.pkl')\n",
    "variables = joblib.load('tau_asymmetry/model1/mri_input_variables.pkl')\n"
   ]
  },
  {
   "cell_type": "code",
   "execution_count": 11,
   "id": "f7d0e645-5914-4bc9-a79c-22f90b7251e7",
   "metadata": {},
   "outputs": [],
   "source": [
    "# Second outcome, if available (not needed for prediction)\n",
    "outcome2 = 'avg_lat_idx' # outcome variable name, change as suitable\n",
    "y_true = df_pos[outcome2]"
   ]
  },
  {
   "cell_type": "code",
   "execution_count": 12,
   "id": "f00ca212-501f-4770-8948-afa8b889767f",
   "metadata": {},
   "outputs": [],
   "source": [
    "# Impute data for missing columns\n",
    "\n",
    "X_test = imputer.transform(df_pos[variables])\n",
    "X_test = pd.DataFrame(X_test,columns=variables)"
   ]
  },
  {
   "cell_type": "code",
   "execution_count": 13,
   "id": "a4147f13-d115-4fc7-afea-a7d26a8df793",
   "metadata": {},
   "outputs": [],
   "source": [
    "# Predict tau asymmetry using the pre-trained pipeline\n",
    "\n",
    "y_pred = pipeline.predict(X_test)"
   ]
  },
  {
   "cell_type": "code",
   "execution_count": 14,
   "id": "e5609090-b126-4a0e-9b5e-2348c39bd3f7",
   "metadata": {},
   "outputs": [
    {
     "name": "stdout",
     "output_type": "stream",
     "text": [
      "Mean absolute error: 7.692\n",
      "R2 score: 0.011\n"
     ]
    }
   ],
   "source": [
    "# if y_true available\n",
    "# Calculate and print summary metrics\n",
    "mae = mean_absolute_error(y_true,y_pred)\n",
    "r2 = np.corrcoef(y_true,y_pred)[0,1]*np.corrcoef(y_true,y_pred)[0,1]\n",
    "\n",
    "print('Mean absolute error: {:.3f}'.format(mae))\n",
    "print('R2 score: {:.3f}'.format(r2))"
   ]
  },
  {
   "cell_type": "code",
   "execution_count": 15,
   "id": "054c6336-556e-470c-8a8d-acdb58057990",
   "metadata": {},
   "outputs": [
    {
     "data": {
      "text/plain": [
       "Text(0, 0.5, 'Predicted')"
      ]
     },
     "execution_count": 15,
     "metadata": {},
     "output_type": "execute_result"
    },
    {
     "data": {
      "image/png": "[encoded data removed]",
      "text/plain": [
       "<Figure size 500x300 with 1 Axes>"
      ]
     },
     "metadata": {},
     "output_type": "display_data"
    }
   ],
   "source": [
    "# if y_true available\n",
    "# Plot scatter plot of predicted versus true and print \n",
    "\n",
    "plt.rcParams[\"figure.figsize\"] = (5,3)\n",
    "fig, axs = plt.subplots(1,1)\n",
    "x_line = np.linspace(-40,40,2)\n",
    "y_line = np.linspace(-40,40,2)\n",
    "plt.rc('font', size=10)\n",
    "plt.scatter(y_true,y_pred,c = 'indigo',s=10)\n",
    "axs.set_aspect('equal', adjustable='box')\n",
    "plt.grid(alpha=0.3)\n",
    "props = dict(boxstyle='square', facecolor='white')\n",
    "axs.plot(x_line,y_line,c='black',linewidth=1)\n",
    "axs.text(0.44, 0.97, 'MAE = {:.3f} \\n R-squared = {:.3f}'.format(mae,r2), transform=axs.transAxes,verticalalignment='top', bbox=props,size=9)\n",
    "axs.set_ylim([-40, 40])\n",
    "axs.set_xlim([-40,40])\n",
    "axs.set_yticks([-40,-24,-8,8,24, 40])\n",
    "plt.xlabel('True')\n",
    "plt.ylabel('Predicted')\n",
    "#plt.savefig('y_scatter_load_linear_bf1.png',bbox_inches='tight',dpi=300)\n"
   ]
  },
  {
   "cell_type": "code",
   "execution_count": 16,
   "id": "c1af792b-426c-4f30-ba3f-a5e4769a9347",
   "metadata": {},
   "outputs": [],
   "source": [
    "df_test.loc[df_pos.index,'pred_avg_lat_idx'] = y_pred"
   ]
  },
  {
   "cell_type": "markdown",
   "id": "f6607eed-d589-4975-9bf8-544c69b1f0bb",
   "metadata": {},
   "source": [
    "## Save predictions in updated csv file"
   ]
  },
  {
   "cell_type": "code",
   "execution_count": 17,
   "id": "78bbbcd6-82ef-4b7c-b079-a38657db1002",
   "metadata": {},
   "outputs": [],
   "source": [
    "# save predictions\n",
    "\n",
    "df_test.to_csv(filename + '_with_pred.csv',index=False)"
   ]
  }
 ],
 "metadata": {
  "kernelspec": {
   "display_name": "Python 3 (ipykernel)",
   "language": "python",
   "name": "python3"
  },
  "language_info": {
   "codemirror_mode": {
    "name": "ipython",
    "version": 3
   },
   "file_extension": ".py",
   "mimetype": "text/x-python",
   "name": "python",
   "nbconvert_exporter": "python",
   "pygments_lexer": "ipython3",
   "version": "3.9.7"
  }
 },
 "nbformat": 4,
 "nbformat_minor": 5
}
